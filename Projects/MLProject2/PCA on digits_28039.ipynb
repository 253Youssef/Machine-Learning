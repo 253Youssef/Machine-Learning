{
 "cells": [
  {
   "cell_type": "markdown",
   "metadata": {},
   "source": [
    "# Lab 7\n",
    "\n",
    "## Objectives\n",
    "1. Understand dimensionality reduction by implementing PCA\n",
    "2. Understanding the effect of PCA before and after application\n",
    "\n",
    "[Tutorial1](https://towardsdatascience.com/principal-component-analysis-your-tutorial-and-code-9719d3d3f376) and [Tutorial2](https://github.com/mGalarnyk/Python_Tutorials/blob/master/Sklearn/PCA/PCA_Image_Reconstruction_and_such.ipynb) were used in the preparation of this manual"
   ]
  },
  {
   "cell_type": "markdown",
   "metadata": {},
   "source": [
    "## Imports needed"
   ]
  },
  {
   "cell_type": "code",
   "execution_count": 1,
   "metadata": {},
   "outputs": [
    {
     "name": "stderr",
     "output_type": "stream",
     "text": [
      "/usr/lib/python3.5/importlib/_bootstrap.py:222: RuntimeWarning: numpy.dtype size changed, may indicate binary incompatibility. Expected 96, got 88\n",
      "  return f(*args, **kwds)\n",
      "/usr/lib/python3.5/importlib/_bootstrap.py:222: RuntimeWarning: numpy.dtype size changed, may indicate binary incompatibility. Expected 96, got 88\n",
      "  return f(*args, **kwds)\n",
      "/usr/lib/python3.5/importlib/_bootstrap.py:222: RuntimeWarning: numpy.dtype size changed, may indicate binary incompatibility. Expected 96, got 88\n",
      "  return f(*args, **kwds)\n",
      "/usr/lib/python3.5/importlib/_bootstrap.py:222: RuntimeWarning: numpy.dtype size changed, may indicate binary incompatibility. Expected 96, got 88\n",
      "  return f(*args, **kwds)\n"
     ]
    }
   ],
   "source": [
    "# %matplotlib inline\n",
    "from sklearn.datasets import fetch_mldata\n",
    "from sklearn.decomposition import PCA\n",
    "import numpy as np\n",
    "import matplotlib.pyplot as plt\n",
    "from sklearn.preprocessing import StandardScaler\n",
    "import numpy as np\n",
    "from sklearn.datasets import load_digits\n",
    "import pandas as pd\n",
    "\n",
    "import pickle\n",
    "import gzip"
   ]
  },
  {
   "cell_type": "markdown",
   "metadata": {},
   "source": [
    "## Read the mnist data\n",
    "You can download it from [here](http://www.deeplearning.net/tutorial/gettingstarted.html)"
   ]
  },
  {
   "cell_type": "code",
   "execution_count": 2,
   "metadata": {},
   "outputs": [],
   "source": [
    "f = gzip.open('mnist.pkl.gz', 'rb')\n",
    "train_set, valid_set, test_set = pickle.load(f, encoding='latin1')\n",
    "f.close()"
   ]
  },
  {
   "cell_type": "code",
   "execution_count": 3,
   "metadata": {},
   "outputs": [],
   "source": [
    "X = train_set[0]"
   ]
  },
  {
   "cell_type": "markdown",
   "metadata": {},
   "source": [
    "## Compute the co-variance matrix and normalize it"
   ]
  },
  {
   "cell_type": "code",
   "execution_count": 4,
   "metadata": {},
   "outputs": [],
   "source": [
    "\n",
    "# Compute the mean of the data\n",
    "#mean_vec = np.mean(X, axis=0)\n",
    "\n",
    "# Compute the covariance matrix\n",
    "#cov_mat = (X - mean_vec).T.dot((X - mean_vec)) / (X.shape[0]-1)\n",
    "\n",
    "\n",
    "# OR we can do this with one line of numpy:\n",
    "cov_mat = np.cov(np.transpose(X))\n",
    "\n",
    "from sklearn.preprocessing import StandardScaler\n",
    "X = StandardScaler().fit_transform(X)\n",
    "\n",
    "# print (X)"
   ]
  },
  {
   "cell_type": "code",
   "execution_count": 5,
   "metadata": {},
   "outputs": [
    {
     "data": {
      "text/plain": [
       "(50000, 784)"
      ]
     },
     "execution_count": 5,
     "metadata": {},
     "output_type": "execute_result"
    }
   ],
   "source": [
    "X.shape"
   ]
  },
  {
   "cell_type": "markdown",
   "metadata": {},
   "source": [
    "## 1. Compute the eigen vectors and values\n",
    "## 2. Sort them according to the highest eigen values"
   ]
  },
  {
   "cell_type": "code",
   "execution_count": 6,
   "metadata": {},
   "outputs": [
    {
     "name": "stdout",
     "output_type": "stream",
     "text": [
      "(5.1082928096639275, array([ 0.00000000e+00,  0.00000000e+00,  0.00000000e+00,  0.00000000e+00,\n",
      "        0.00000000e+00,  0.00000000e+00,  0.00000000e+00,  0.00000000e+00,\n",
      "        0.00000000e+00,  0.00000000e+00,  0.00000000e+00,  0.00000000e+00,\n",
      "       -1.34708256e-06, -5.28019986e-06, -2.59346020e-06, -1.08060842e-07,\n",
      "        0.00000000e+00,  0.00000000e+00,  0.00000000e+00,  0.00000000e+00,\n",
      "        0.00000000e+00,  0.00000000e+00,  0.00000000e+00,  0.00000000e+00,\n",
      "        0.00000000e+00,  0.00000000e+00,  0.00000000e+00,  0.00000000e+00,\n",
      "        0.00000000e+00,  0.00000000e+00,  0.00000000e+00,  0.00000000e+00,\n",
      "        2.93991924e-07,  1.04194465e-06,  9.81192895e-06,  2.48461836e-05,\n",
      "        3.08578469e-05,  3.61464108e-05,  4.46425006e-05,  7.63668090e-05,\n",
      "        8.21465945e-05,  7.52206076e-05,  8.21336866e-05,  5.57047376e-05,\n",
      "        2.77331493e-05,  3.92994972e-05,  1.13433385e-05, -1.71736654e-05,\n",
      "       -9.94671725e-06, -7.43801976e-06, -2.96785872e-06,  6.69612688e-07,\n",
      "        0.00000000e+00,  0.00000000e+00,  0.00000000e+00,  0.00000000e+00,\n",
      "        0.00000000e+00,  0.00000000e+00,  2.34233428e-06,  1.13272347e-06,\n",
      "        3.69646886e-06,  4.69498851e-06,  4.19601550e-05,  9.24730473e-05,\n",
      "        1.84391793e-04,  3.35388467e-04,  4.79249551e-04,  7.75621808e-04,\n",
      "        1.36566294e-03,  1.99923249e-03,  2.34919359e-03,  2.40072759e-03,\n",
      "        2.24964276e-03,  1.82760752e-03,  1.14589285e-03,  6.93777271e-04,\n",
      "        3.45907322e-04,  1.45577897e-04,  6.17394504e-05,  1.48756558e-05,\n",
      "        1.09185735e-05,  4.54040628e-06,  0.00000000e+00,  0.00000000e+00,\n",
      "        0.00000000e+00,  0.00000000e+00,  5.28187262e-06,  7.55992904e-06,\n",
      "        1.33002483e-05,  7.99251586e-05,  1.33250840e-04,  2.57625673e-04,\n",
      "        5.17671306e-04,  9.72595575e-04,  1.65870698e-03,  2.78711084e-03,\n",
      "        4.39491466e-03,  6.24691390e-03,  7.81056339e-03,  8.77185746e-03,\n",
      "        8.31799873e-03,  6.53795081e-03,  4.79857139e-03,  3.13460989e-03,\n",
      "        2.00846788e-03,  1.02096402e-03,  5.35636259e-04,  1.51865744e-04,\n",
      "        2.59615215e-05,  2.79064926e-06, -3.86331231e-06,  0.00000000e+00,\n",
      "        0.00000000e+00,  1.84807327e-07,  7.80203624e-07,  1.22160086e-05,\n",
      "        3.88293619e-05,  2.03161018e-04,  5.37419622e-04,  1.19370737e-03,\n",
      "        2.45408659e-03,  4.74341385e-03,  8.01403601e-03,  1.24595970e-02,\n",
      "        1.75549743e-02,  2.21262328e-02,  2.54220058e-02,  2.80748050e-02,\n",
      "        2.82726256e-02,  2.49456733e-02,  2.00739321e-02,  1.37953700e-02,\n",
      "        8.66201911e-03,  4.99719337e-03,  2.41647999e-03,  9.04971340e-04,\n",
      "        2.04693966e-04,  1.05478066e-05, -8.35004523e-06, -4.01075523e-06,\n",
      "        0.00000000e+00,  0.00000000e+00,  7.66752016e-07,  2.13476803e-05,\n",
      "        2.01478246e-04,  7.61372729e-04,  1.64428773e-03,  3.44973844e-03,\n",
      "        7.18099883e-03,  1.35623720e-02,  2.24841857e-02,  3.36396971e-02,\n",
      "        4.40172229e-02,  5.01669912e-02,  5.25689848e-02,  5.20817720e-02,\n",
      "        5.19125109e-02,  4.98128053e-02,  4.46174510e-02,  3.63719508e-02,\n",
      "        2.54558836e-02,  1.54985067e-02,  7.93663910e-03,  3.06232662e-03,\n",
      "        7.39994063e-04, -9.28072333e-06, -4.08655129e-06, -5.47256437e-06,\n",
      "        0.00000000e+00, -1.38360683e-07, -5.92695922e-06,  3.08102611e-05,\n",
      "        4.51427392e-04,  1.34087615e-03,  2.77414886e-03,  6.35489101e-03,\n",
      "        1.33706239e-02,  2.50832318e-02,  4.11225966e-02,  5.80514749e-02,\n",
      "        6.85635686e-02,  6.86545118e-02,  6.11579817e-02,  5.32707718e-02,\n",
      "        5.12890446e-02,  5.51796073e-02,  5.87611752e-02,  5.68617625e-02,\n",
      "        4.71679584e-02,  3.15880090e-02,  1.65581740e-02,  6.29690372e-03,\n",
      "        1.28747977e-03,  7.14479008e-06, -5.99557383e-05, -2.10975927e-05,\n",
      "       -6.84011852e-07, -1.11980449e-05, -3.30475119e-05,  1.10250929e-05,\n",
      "        4.88162205e-04,  1.49656706e-03,  3.79186903e-03,  9.67220087e-03,\n",
      "        2.06827954e-02,  3.75431818e-02,  5.71916966e-02,  7.21354715e-02,\n",
      "        7.40919959e-02,  6.07541817e-02,  4.08973254e-02,  2.50192743e-02,\n",
      "        2.22123767e-02,  3.31389184e-02,  5.02782970e-02,  6.21557396e-02,\n",
      "        6.11746709e-02,  4.62018827e-02,  2.63902769e-02,  9.79820481e-03,\n",
      "        1.56120758e-03, -2.63502388e-04, -1.19284110e-04, -1.79502052e-05,\n",
      "       -2.77970774e-06, -7.50447691e-06, -3.24544606e-05,  5.66955689e-05,\n",
      "        5.64795474e-04,  1.64154592e-03,  5.40062979e-03,  1.41393068e-02,\n",
      "        2.96290960e-02,  5.01384859e-02,  6.76875053e-02,  7.36136138e-02,\n",
      "        6.31349879e-02,  3.87741710e-02,  1.00331494e-02, -1.01553681e-02,\n",
      "       -1.28800160e-02,  2.76116021e-03,  3.12246882e-02,  5.84398163e-02,\n",
      "        6.87643317e-02,  5.75094004e-02,  3.54044706e-02,  1.35634083e-02,\n",
      "        1.77977787e-03, -6.75427261e-04, -1.35479950e-04, -2.28191124e-05,\n",
      "       -6.03821157e-07, -7.75070960e-06,  3.93105585e-06,  1.66857435e-04,\n",
      "        8.30131003e-04,  2.64974972e-03,  9.02432009e-03,  2.25849362e-02,\n",
      "        4.26160496e-02,  6.36587765e-02,  7.43429001e-02,  6.88287333e-02,\n",
      "        4.87996224e-02,  1.87105393e-02, -1.44995056e-02, -3.65910418e-02,\n",
      "       -3.86070713e-02, -1.97161343e-02,  1.57436614e-02,  5.33025095e-02,\n",
      "        7.20300286e-02,  6.61832201e-02,  4.40082718e-02,  1.86969637e-02,\n",
      "        3.05291041e-03, -5.48765764e-04, -1.15166305e-04, -2.70564743e-05,\n",
      "       -3.84973007e-07, -1.05231450e-07,  5.49454354e-05,  3.16418206e-04,\n",
      "        1.34472587e-03,  5.16101915e-03,  1.55915636e-02,  3.49350015e-02,\n",
      "        5.83913052e-02,  7.59388650e-02,  7.70178266e-02,  6.23914627e-02,\n",
      "        3.76148880e-02,  4.84283080e-03, -3.07317616e-02, -5.31014381e-02,\n",
      "       -5.15279833e-02, -2.98059391e-02,  9.77873293e-03,  5.22233932e-02,\n",
      "        7.56008275e-02,  7.27632459e-02,  5.17797054e-02,  2.47416139e-02,\n",
      "        5.55485267e-03, -1.84282110e-04, -8.79906549e-05, -1.14085586e-05,\n",
      "       -4.98639948e-06, -4.12368755e-06,  7.41699914e-05,  4.60312660e-04,\n",
      "        2.04563443e-03,  8.75160663e-03,  2.41997301e-02,  4.87280099e-02,\n",
      "        7.28947361e-02,  8.39481078e-02,  7.54334820e-02,  5.48539275e-02,\n",
      "        2.91057439e-02, -5.61799277e-03, -4.33022960e-02, -6.07016532e-02,\n",
      "       -5.24517126e-02, -2.47611759e-02,  1.63345510e-02,  5.77068432e-02,\n",
      "        8.00584441e-02,  7.74803742e-02,  5.68247268e-02,  3.00991750e-02,\n",
      "        8.08289015e-03,  1.08572945e-04, -1.80005483e-05, -7.05681625e-06,\n",
      "       -3.14663514e-06,  3.52255364e-06,  5.15693229e-05,  4.77635753e-04,\n",
      "        2.72927144e-03,  1.29301581e-02,  3.42104548e-02,  6.20997805e-02,\n",
      "        8.37917431e-02,  8.61822614e-02,  6.96019379e-02,  4.58927588e-02,\n",
      "        1.99439471e-02, -1.80138347e-02, -5.39174445e-02, -6.31583203e-02,\n",
      "       -4.51619617e-02, -9.26836595e-03,  3.25541062e-02,  6.75900558e-02,\n",
      "        8.44659071e-02,  7.99338723e-02,  5.97616990e-02,  3.37037365e-02,\n",
      "        1.02703013e-02,  3.50481416e-04, -3.70347756e-06, -9.29371493e-06,\n",
      "       -1.89441426e-06,  5.96788799e-07,  3.07650066e-05,  4.49176061e-04,\n",
      "        3.72804298e-03,  1.83496347e-02,  4.41972334e-02,  7.32761244e-02,\n",
      "        9.01662021e-02,  8.34431444e-02,  6.00367062e-02,  3.41850796e-02,\n",
      "        7.64082488e-03, -3.44460343e-02, -6.33302620e-02, -6.43924892e-02,\n",
      "       -3.34336613e-02,  8.09883556e-03,  4.80436753e-02,  7.72608848e-02,\n",
      "        8.82260649e-02,  8.16267688e-02,  6.15293984e-02,  3.57255016e-02,\n",
      "        1.17266425e-02,  5.08610975e-04, -3.26956847e-05, -1.18580229e-05,\n",
      "        1.61593032e-07,  1.89448654e-06,  2.28015394e-05,  4.31984519e-04,\n",
      "        5.19189606e-03,  2.45946386e-02,  5.33844867e-02,  8.18060715e-02,\n",
      "        9.22180913e-02,  7.75541742e-02,  4.87680028e-02,  2.10765800e-02,\n",
      "       -7.54535753e-03, -5.03097732e-02, -7.09051382e-02, -6.41057395e-02,\n",
      "       -2.34926168e-02,  1.76683198e-02,  5.63073392e-02,  8.30917801e-02,\n",
      "        9.11882977e-02,  8.30624420e-02,  6.19302647e-02,  3.57808257e-02,\n",
      "        1.23516311e-02,  7.68808705e-04, -4.23236132e-05, -2.29831844e-06,\n",
      "        2.74187402e-08,  2.68100439e-06,  2.31597456e-05,  5.22205036e-04,\n",
      "        7.18218097e-03,  3.10211090e-02,  6.14154493e-02,  8.66074606e-02,\n",
      "        9.17596252e-02,  7.22262691e-02,  4.07516115e-02,  1.14648059e-02,\n",
      "       -2.08215020e-02, -5.95355486e-02, -7.56227638e-02, -6.11884311e-02,\n",
      "       -1.81265968e-02,  2.21297532e-02,  6.06881321e-02,  8.64100411e-02,\n",
      "        9.35978827e-02,  8.35564031e-02,  6.10525379e-02,  3.34895155e-02,\n",
      "        1.13338351e-02,  7.81536796e-04, -5.11880748e-05, -1.08470223e-05,\n",
      "       -1.45670014e-07, -1.80453619e-06,  4.71035125e-05,  6.85939409e-04,\n",
      "        9.53507049e-03,  3.66297505e-02,  6.65803009e-02,  8.89397459e-02,\n",
      "        9.04903575e-02,  6.85811208e-02,  3.55579912e-02,  4.26010679e-03,\n",
      "       -2.91140417e-02, -6.21649348e-02, -7.58844329e-02, -5.55746934e-02,\n",
      "       -1.36356497e-02,  2.85977463e-02,  6.72821445e-02,  9.11303466e-02,\n",
      "        9.63764371e-02,  8.24186713e-02,  5.64456639e-02,  2.87974661e-02,\n",
      "        8.93248772e-03,  6.35040151e-04, -9.53810430e-05, -6.91622731e-06,\n",
      "        0.00000000e+00, -3.22547903e-06,  6.84880906e-05,  1.09389376e-03,\n",
      "        1.21953797e-02,  4.04751677e-02,  6.86067731e-02,  8.83919150e-02,\n",
      "        8.77257679e-02,  6.54276289e-02,  3.14838282e-02, -1.91084996e-03,\n",
      "       -3.37156659e-02, -6.26675411e-02, -7.04856525e-02, -4.47557380e-02,\n",
      "       -1.30790902e-03,  4.33549915e-02,  7.94797464e-02,  9.85281344e-02,\n",
      "        9.76828462e-02,  7.68614805e-02,  4.79945875e-02,  2.22224965e-02,\n",
      "        6.06063029e-03,  3.85750265e-04, -1.22513587e-04, -9.51487624e-06,\n",
      "       -2.21427307e-06,  1.47185237e-06,  1.20434727e-04,  1.83251431e-03,\n",
      "        1.43430760e-02,  4.17198321e-02,  6.81339226e-02,  8.61955244e-02,\n",
      "        8.53094607e-02,  6.33122862e-02,  2.96596112e-02, -4.00995598e-03,\n",
      "       -3.40123408e-02, -5.70998982e-02, -5.57025469e-02, -2.38521987e-02,\n",
      "        2.23656771e-02,  6.56813426e-02,  9.50238551e-02,  1.04786333e-01,\n",
      "        9.24477615e-02,  6.55772603e-02,  3.72822179e-02,  1.52660653e-02,\n",
      "        3.55658402e-03,  1.76421028e-04, -7.00230957e-05, -1.59185027e-05,\n",
      "       -8.36079546e-07, -6.01644620e-06,  1.88928900e-04,  2.30537388e-03,\n",
      "        1.50202006e-02,  4.05275490e-02,  6.60730308e-02,  8.40782501e-02,\n",
      "        8.50282369e-02,  6.67283722e-02,  3.54866242e-02,  3.78299526e-03,\n",
      "       -2.25059578e-02, -3.74967947e-02, -2.77313765e-02,  6.93433169e-03,\n",
      "        5.18514864e-02,  8.77234571e-02,  1.04835702e-01,  1.00084838e-01,\n",
      "        7.80299598e-02,  5.00408455e-02,  2.51946535e-02,  9.18669537e-03,\n",
      "        1.71535469e-03, -3.75566156e-05, -5.42892258e-05, -8.12152234e-06,\n",
      "        0.00000000e+00, -9.08487429e-07,  2.24405056e-04,  2.27749910e-03,\n",
      "        1.29829313e-02,  3.46993180e-02,  5.99849763e-02,  8.01213701e-02,\n",
      "        8.64773082e-02,  7.59027929e-02,  5.20733928e-02,  2.57194043e-02,\n",
      "        4.37932512e-03, -4.33351055e-03,  9.23380200e-03,  4.08617248e-02,\n",
      "        7.56272564e-02,  9.71831589e-02,  9.81224879e-02,  8.13027357e-02,\n",
      "        5.58506537e-02,  3.15858199e-02,  1.41762220e-02,  4.86344547e-03,\n",
      "        8.90327127e-04, -4.82201581e-05, -1.85134912e-05, -6.70277794e-07,\n",
      "       -1.84990171e-06,  5.43313063e-06,  1.83666125e-04,  1.70882716e-03,\n",
      "        8.91238649e-03,  2.47703741e-02,  4.65693100e-02,  6.85027458e-02,\n",
      "        8.05535458e-02,  7.92240286e-02,  6.62287737e-02,  4.76313700e-02,\n",
      "        3.36424687e-02,  2.91421999e-02,  3.97668542e-02,  6.05167079e-02,\n",
      "        7.91371201e-02,  8.49562866e-02,  7.36553194e-02,  5.28953119e-02,\n",
      "        3.18751466e-02,  1.59493223e-02,  6.72202126e-03,  2.36676310e-03,\n",
      "        5.15243399e-04,  4.16999559e-06,  1.03907902e-05,  2.89443926e-06,\n",
      "       -1.79209228e-06, -7.48188232e-07,  8.90383118e-05,  9.31369538e-04,\n",
      "        4.35216025e-03,  1.30620646e-02,  2.76259167e-02,  4.47840332e-02,\n",
      "        5.80307986e-02,  6.29917702e-02,  5.87105200e-02,  4.88425465e-02,\n",
      "        4.06413745e-02,  3.82356892e-02,  4.24467841e-02,  5.08415571e-02,\n",
      "        5.63614483e-02,  5.31886404e-02,  4.08980424e-02,  2.62607130e-02,\n",
      "        1.42027067e-02,  6.66220996e-03,  2.99391406e-03,  1.15774980e-03,\n",
      "        3.38957458e-04,  3.88198868e-05,  4.24498115e-06,  5.34358017e-06,\n",
      "        0.00000000e+00,  0.00000000e+00,  2.62050653e-05,  2.46686869e-04,\n",
      "        1.14633621e-03,  3.67077796e-03,  8.89549386e-03,  1.65835283e-02,\n",
      "        2.44554870e-02,  2.93820112e-02,  2.99112228e-02,  2.74680896e-02,\n",
      "        2.42706302e-02,  2.10667937e-02,  1.99996959e-02,  2.14451363e-02,\n",
      "        2.32077607e-02,  2.08347967e-02,  1.49792483e-02,  9.20852184e-03,\n",
      "        5.14916752e-03,  2.71033685e-03,  1.28016611e-03,  4.82809872e-04,\n",
      "        1.21507688e-04,  1.29663238e-05, -1.02696525e-05,  0.00000000e+00,\n",
      "        0.00000000e+00,  0.00000000e+00,  4.89976560e-06,  1.38680282e-05,\n",
      "        7.51366017e-05,  1.81751779e-04,  3.79988988e-04,  5.95654077e-04,\n",
      "        5.87255500e-04, -2.46997177e-04, -2.23481381e-03, -3.68056096e-03,\n",
      "       -4.13893166e-03, -4.10800387e-03, -3.35190432e-03, -8.64217250e-04,\n",
      "        1.63748420e-03,  3.04861280e-03,  3.08489854e-03,  2.64826547e-03,\n",
      "        1.91214495e-03,  1.13572035e-03,  6.35816402e-04,  2.34816117e-04,\n",
      "        3.00659230e-05, -3.44847575e-06, -2.59373905e-06,  0.00000000e+00,\n",
      "        0.00000000e+00,  0.00000000e+00,  6.51728106e-07, -8.89432375e-06,\n",
      "       -6.71159476e-05, -1.96975891e-04, -5.81797262e-04, -1.40767505e-03,\n",
      "       -3.12329154e-03, -5.69458796e-03, -8.64993540e-03, -1.05121859e-02,\n",
      "       -1.09938497e-02, -1.01500046e-02, -7.99932150e-03, -5.54245998e-03,\n",
      "       -2.88129833e-03, -8.37202066e-04,  1.84147464e-04,  6.63372263e-04,\n",
      "        6.88096689e-04,  4.36514189e-04,  2.05585390e-04,  1.02508011e-04,\n",
      "        1.57106330e-05, -7.85233634e-07, -1.86734374e-06,  0.00000000e+00,\n",
      "        0.00000000e+00,  0.00000000e+00,  0.00000000e+00, -1.17482301e-06,\n",
      "       -3.76359527e-05, -1.03539326e-04, -2.57864009e-04, -6.51498371e-04,\n",
      "       -1.49365310e-03, -2.44666932e-03, -3.55988288e-03, -4.38321615e-03,\n",
      "       -4.56725718e-03, -4.14029862e-03, -3.16968481e-03, -1.98559634e-03,\n",
      "       -1.19949489e-03, -5.76084739e-04, -1.57055161e-04,  8.82926169e-05,\n",
      "        1.47650452e-04,  6.76343859e-05,  1.94678198e-05,  2.95430601e-06,\n",
      "       -8.95238712e-10, -8.68888606e-07,  0.00000000e+00,  0.00000000e+00,\n",
      "        0.00000000e+00,  0.00000000e+00,  0.00000000e+00,  0.00000000e+00,\n",
      "       -2.32708066e-06, -9.05322199e-06, -2.17154052e-05, -5.18987773e-05,\n",
      "       -4.35624481e-05, -6.15134889e-05, -2.09989414e-04, -2.49523694e-04,\n",
      "       -2.58552400e-04, -2.11497251e-04, -1.89641505e-04, -1.30025335e-04,\n",
      "       -6.10199752e-05, -3.21660516e-05, -1.63625307e-05,  8.03179195e-06,\n",
      "        5.34300455e-06, -2.69561597e-07, -8.05401346e-07,  1.13479021e-07,\n",
      "        0.00000000e+00,  0.00000000e+00,  0.00000000e+00,  0.00000000e+00]))\n"
     ]
    }
   ],
   "source": [
    "# Compute the eigen values and vectors using numpy\n",
    "eig_vals, eig_vecs = np.linalg.eig(cov_mat)\n",
    "\n",
    "# Make a list of (eigenvalue, eigenvector) tuples\n",
    "eig_pairs = [(np.abs(eig_vals[i]), eig_vecs[:,i]) for i in range(len(eig_vals))]\n",
    "\n",
    "# Sort the (eigenvalue, eigenvector) tuples from high to low\n",
    "eig_pairs.sort(key=lambda x: x[0], reverse=True)\n",
    "\n",
    "print (eig_pairs[0])\n"
   ]
  },
  {
   "cell_type": "code",
   "execution_count": 7,
   "metadata": {},
   "outputs": [
    {
     "data": {
      "text/plain": [
       "1"
      ]
     },
     "execution_count": 7,
     "metadata": {},
     "output_type": "execute_result"
    }
   ],
   "source": [
    "len(eig_pairs[0][1].shape)"
   ]
  },
  {
   "cell_type": "markdown",
   "metadata": {},
   "source": [
    "## Choose the highest components"
   ]
  },
  {
   "cell_type": "code",
   "execution_count": 9,
   "metadata": {
    "scrolled": true
   },
   "outputs": [
    {
     "name": "stdout",
     "output_type": "stream",
     "text": [
      "Number of vectors to keep 154\n"
     ]
    }
   ],
   "source": [
    "\n",
    "# Only keep a certain number of eigen vectors based on \n",
    "# the \"explained variance percentage\" which tells us how \n",
    "# much information (variance) can be attributed to each \n",
    "# of the principal components\n",
    "\n",
    "exp_var_percentage = 95 # Threshold of 95% explained variance\n",
    "\n",
    "tot = sum(eig_vals)\n",
    "var_exp = [(i / tot)*100 for i in sorted(eig_vals, reverse=True)]\n",
    "cum_var_exp = np.cumsum(var_exp)\n",
    "\n",
    "num_vec_to_keep = 0\n",
    "\n",
    "for index, percentage in enumerate(cum_var_exp):\n",
    "    if (percentage > exp_var_percentage):\n",
    "        num_vec_to_keep = index + 1\n",
    "        break\n",
    "\n",
    "print (\"Number of vectors to keep\", num_vec_to_keep)    \n",
    "\n"
   ]
  },
  {
   "cell_type": "markdown",
   "metadata": {},
   "source": [
    "## Create the projection matrix and and project the data onto the chosen vectors"
   ]
  },
  {
   "cell_type": "code",
   "execution_count": 10,
   "metadata": {},
   "outputs": [
    {
     "data": {
      "text/plain": [
       "(50000, 784)"
      ]
     },
     "execution_count": 10,
     "metadata": {},
     "output_type": "execute_result"
    }
   ],
   "source": [
    "# Compute the projection matrix based on the top eigen vectors\n",
    "num_features = X.shape[1]\n",
    "proj_mat = eig_pairs[0][1].reshape(num_features,1)\n",
    "for eig_vec_idx in range(1, num_vec_to_keep):\n",
    "  proj_mat = np.hstack((proj_mat, eig_pairs[eig_vec_idx][1].reshape(num_features,1)))\n",
    "\n",
    "# Project the data \n",
    "pca_data = X.dot(proj_mat)\n",
    "\n",
    "X.shape"
   ]
  },
  {
   "cell_type": "code",
   "execution_count": 11,
   "metadata": {},
   "outputs": [
    {
     "data": {
      "text/plain": [
       "(784, 154)"
      ]
     },
     "execution_count": 11,
     "metadata": {},
     "output_type": "execute_result"
    }
   ],
   "source": [
    "proj_mat.shape"
   ]
  },
  {
   "cell_type": "code",
   "execution_count": 12,
   "metadata": {},
   "outputs": [
    {
     "data": {
      "text/plain": [
       "(50000, 154)"
      ]
     },
     "execution_count": 12,
     "metadata": {},
     "output_type": "execute_result"
    }
   ],
   "source": [
    "pca_data.shape"
   ]
  },
  {
   "cell_type": "markdown",
   "metadata": {},
   "source": [
    "## Reconstruct the data"
   ]
  },
  {
   "cell_type": "code",
   "execution_count": 13,
   "metadata": {},
   "outputs": [],
   "source": [
    "inverse_pca_data = np.dot(pca_data, proj_mat.T)"
   ]
  },
  {
   "cell_type": "code",
   "execution_count": 14,
   "metadata": {},
   "outputs": [
    {
     "data": {
      "text/plain": [
       "(50000, 784)"
      ]
     },
     "execution_count": 14,
     "metadata": {},
     "output_type": "execute_result"
    }
   ],
   "source": [
    "inverse_pca_data.shape"
   ]
  },
  {
   "cell_type": "markdown",
   "metadata": {},
   "source": [
    "## Plot the original digit against the reconstructed "
   ]
  },
  {
   "cell_type": "code",
   "execution_count": 15,
   "metadata": {},
   "outputs": [
    {
     "name": "stdout",
     "output_type": "stream",
     "text": [
      "5\n"
     ]
    },
    {
     "data": {
      "image/png": "[encoded data removed]",
      "text/plain": [
       "<matplotlib.figure.Figure at 0x7f212459d400>"
      ]
     },
     "metadata": {},
     "output_type": "display_data"
    }
   ],
   "source": [
    "imageIndex = 0\n",
    "plt.figure(figsize=(8,4))\n",
    "print(train_set[1][imageIndex])\n",
    "# Original Image\n",
    "plt.subplot(1, 2, 1)\n",
    "plt.imshow(X[imageIndex].reshape(28, 28),\n",
    "            cmap = plt.cm.gray,\n",
    "            interpolation='nearest',\n",
    "#             clim=(0, 255)\n",
    "          )\n",
    "plt.xlabel('{0} components'.format(X[imageIndex].shape), fontsize = 14)\n",
    "plt.title('Original Image', fontsize = 20);\n",
    "\n",
    "# 154 principal components\n",
    "plt.subplot(1, 2, 2)\n",
    "plt.imshow(inverse_pca_data[imageIndex].reshape(28, 28), \n",
    "           cmap = plt.cm.gray,\n",
    "           interpolation='nearest',\n",
    "#            clim=(0, 255)\n",
    "          )\n",
    "plt.xlabel('{0} components'.format(num_vec_to_keep), fontsize = 14)\n",
    "plt.title('95% of Explained Variance', fontsize = 20)\n",
    "plt.show()"
   ]
  }
 ],
 "metadata": {
  "anaconda-cloud": {},
  "kernelspec": {
   "display_name": "Python 3",
   "language": "python",
   "name": "python3"
  },
  "language_info": {
   "codemirror_mode": {
    "name": "ipython",
    "version": 3
   },
   "file_extension": ".py",
   "mimetype": "text/x-python",
   "name": "python",
   "nbconvert_exporter": "python",
   "pygments_lexer": "ipython3",
   "version": "3.6.6"
  }
 },
 "nbformat": 4,
 "nbformat_minor": 1
}
